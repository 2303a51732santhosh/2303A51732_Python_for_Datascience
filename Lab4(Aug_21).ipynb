{
  "nbformat": 4,
  "nbformat_minor": 0,
  "metadata": {
    "colab": {
      "provenance": [],
      "authorship_tag": "ABX9TyPZBZ3KodZ17fjOdE9SvAzt",
      "include_colab_link": true
    },
    "kernelspec": {
      "name": "python3",
      "display_name": "Python 3"
    },
    "language_info": {
      "name": "python"
    }
  },
  "cells": [
    {
      "cell_type": "markdown",
      "metadata": {
        "id": "view-in-github",
        "colab_type": "text"
      },
      "source": [
        "<a href=\"https://colab.research.google.com/github/2303a51732santhosh/2303A51732_Python_for_Datascience/blob/main/Lab4(Aug_21).ipynb\" target=\"_parent\"><img src=\"https://colab.research.google.com/assets/colab-badge.svg\" alt=\"Open In Colab\"/></a>"
      ]
    },
    {
      "cell_type": "code",
      "execution_count": null,
      "metadata": {
        "colab": {
          "base_uri": "https://localhost:8080/"
        },
        "id": "LwtVCcbIxXC2",
        "outputId": "64e8b33f-a5ce-4ad7-ad94-f6a191e482b3"
      },
      "outputs": [
        {
          "output_type": "stream",
          "name": "stdout",
          "text": [
            "Cleaned Data:\n",
            "   Student_ID     Name  Math  Science  English\n",
            "0           1    Alice  85.0     90.0     88.0\n",
            "1           2      Bob  78.0     79.2     72.0\n",
            "2           3  Charlie  82.6     76.0     79.0\n",
            "3           4    David  92.0     85.0     79.4\n",
            "4           5      Eva  70.0     65.0     68.0\n",
            "5           6    Frank  88.0     80.0     90.0\n",
            "\n",
            "High Achievers (all subjects > 75):\n",
            "   Student_ID     Name  Math  Science  English\n",
            "0           1    Alice  85.0     90.0     88.0\n",
            "2           3  Charlie  82.6     76.0     79.0\n",
            "3           4    David  92.0     85.0     79.4\n",
            "5           6    Frank  88.0     80.0     90.0\n"
          ]
        }
      ],
      "source": [
        "import pandas as pd\n",
        "\n",
        "# Read the CSV file\n",
        "df = pd.read_csv(\"student_scores.csv\")\n",
        "\n",
        "# Fill missing marks with column-wise averages\n",
        "df_filled = df.fillna(df.mean(numeric_only=True))\n",
        "\n",
        "# Filter students scoring more than 75 in all subjects\n",
        "high_achievers = df_filled[\n",
        "    (df_filled[\"Math\"] > 75) &\n",
        "    (df_filled[\"Science\"] > 75) &\n",
        "    (df_filled[\"English\"] > 75)\n",
        "]\n",
        "\n",
        "# Display results\n",
        "print(\"Cleaned Data:\")\n",
        "print(df_filled)\n",
        "\n",
        "print(\"\\nHigh Achievers (all subjects > 75):\")\n",
        "print(high_achievers)\n"
      ]
    },
    {
      "cell_type": "code",
      "source": [
        "import pandas as pd\n",
        "\n",
        "# Load the dataset\n",
        "df = pd.read_csv(\"patients (1).csv\")\n",
        "\n",
        "# Replace missing Age values with the median\n",
        "df[\"Age\"] = df[\"Age\"].fillna(df[\"Age\"].median())\n",
        "\n",
        "# Filter elderly female patients (>50 years old) diagnosed with Diabetes\n",
        "filtered = df[\n",
        "    (df[\"Gender\"].str.lower() == \"female\") &\n",
        "    (df[\"Age\"] > 50) &\n",
        "    (df[\"Diagnosis\"].str.lower() == \"diabetes\")\n",
        "]\n",
        "\n",
        "# Display results\n",
        "print(\"Cleaned Data:\")\n",
        "print(df)\n",
        "\n",
        "print(\"\\nElderly Female Patients with Diabetes:\")\n",
        "print(filtered)\n",
        "\n",
        "# Optionally save filtered results to a new CSV\n",
        "filtered.to_csv(\"elderly_female_diabetes.csv\", index=False)"
      ],
      "metadata": {
        "id": "QyVAEHzkyfTU",
        "colab": {
          "base_uri": "https://localhost:8080/"
        },
        "outputId": "f84eb68c-0470-4325-cbd0-d9d0160f8be0"
      },
      "execution_count": 5,
      "outputs": [
        {
          "output_type": "stream",
          "name": "stdout",
          "text": [
            "Cleaned Data:\n",
            "   Patient_ID       Name   Age  Gender     Diagnosis Admission_Date\n",
            "0         101      Alice  65.0  Female      Diabetes     2023-01-12\n",
            "1         102        Bob  60.0    Male  Hypertension     2023-02-15\n",
            "2         103  Catherine  54.0  Female      Diabetes     2023-03-10\n",
            "3         104      David  45.0    Male        Asthma     2023-04-05\n",
            "4         105        Eva  70.0  Female           Flu     2023-05-20\n",
            "5         106      Fiona  60.0  Female      Diabetes     2023-06-18\n",
            "6         107     George  60.0    Male      Diabetes     2023-07-22\n",
            "\n",
            "Elderly Female Patients with Diabetes:\n",
            "   Patient_ID       Name   Age  Gender Diagnosis Admission_Date\n",
            "0         101      Alice  65.0  Female  Diabetes     2023-01-12\n",
            "2         103  Catherine  54.0  Female  Diabetes     2023-03-10\n",
            "5         106      Fiona  60.0  Female  Diabetes     2023-06-18\n"
          ]
        }
      ]
    },
    {
      "cell_type": "code",
      "source": [],
      "metadata": {
        "id": "RIMtMt8Vy4uL"
      },
      "execution_count": null,
      "outputs": []
    }
  ]
}