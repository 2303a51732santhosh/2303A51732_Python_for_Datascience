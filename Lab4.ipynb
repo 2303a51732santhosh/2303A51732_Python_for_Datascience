{
  "nbformat": 4,
  "nbformat_minor": 0,
  "metadata": {
    "colab": {
      "provenance": [],
      "authorship_tag": "ABX9TyOKMrYNYKbP8udcBwngveUw",
      "include_colab_link": true
    },
    "kernelspec": {
      "name": "python3",
      "display_name": "Python 3"
    },
    "language_info": {
      "name": "python"
    }
  },
  "cells": [
    {
      "cell_type": "markdown",
      "metadata": {
        "id": "view-in-github",
        "colab_type": "text"
      },
      "source": [
        "<a href=\"https://colab.research.google.com/github/2303a51732santhosh/2303A51732_Python_for_Datascience/blob/main/Lab4.ipynb\" target=\"_parent\"><img src=\"https://colab.research.google.com/assets/colab-badge.svg\" alt=\"Open In Colab\"/></a>"
      ]
    },
    {
      "cell_type": "code",
      "execution_count": 1,
      "metadata": {
        "colab": {
          "base_uri": "https://localhost:8080/"
        },
        "id": "ldcm-JdOA6qK",
        "outputId": "f11ff9c4-2b15-40b5-c1a3-3a8885af7977"
      },
      "outputs": [
        {
          "output_type": "stream",
          "name": "stdout",
          "text": [
            "✅ Transactions with Total > 1000:\n",
            "   Invoice_No Customer_Name  Product  Quantity       Price   Total\n",
            "7        1008   Laura White  Desktop      10.0  333.333333  5000.0\n"
          ]
        }
      ],
      "source": [
        "import pandas as pd\n",
        "\n",
        "# Load sales data\n",
        "sales_df = pd.read_csv(\"sales_data.csv\")\n",
        "\n",
        "# 1. Remove rows with missing Product or Quantity\n",
        "sales_df = sales_df.dropna(subset=[\"Product\", \"Quantity\"])\n",
        "\n",
        "# 2. Fill missing Price with mean price\n",
        "mean_price = sales_df[\"Price\"].mean()\n",
        "sales_df[\"Price\"] = sales_df[\"Price\"].fillna(mean_price)\n",
        "\n",
        "# 3. Calculate missing Total = Quantity × Price\n",
        "sales_df[\"Total\"] = sales_df.apply(\n",
        "    lambda row: row[\"Quantity\"] * row[\"Price\"] if pd.isna(row[\"Total\"]) else row[\"Total\"],\n",
        "    axis=1\n",
        ")\n",
        "\n",
        "# 4. Display all records with Total > 1000\n",
        "large_transactions = sales_df[sales_df[\"Total\"] > 1000]\n",
        "\n",
        "print(\"✅ Transactions with Total > 1000:\")\n",
        "print(large_transactions)\n",
        "\n",
        "# Optional: Save cleaned file\n",
        "# sales_df.to_csv(\"cleaned_sales_data.csv\", index=False)\n"
      ]
    },
    {
      "cell_type": "code",
      "source": [
        "import pandas as pd\n",
        "\n",
        "# Load applicants data\n",
        "applicants_df = pd.read_csv(\"applicants.csv\")\n",
        "\n",
        "# 1. Drop rows missing Python_Score\n",
        "applicants_df = applicants_df.dropna(subset=[\"Python_Score\"])\n",
        "\n",
        "# 2. Replace missing Experience_Years with 0\n",
        "applicants_df[\"Experience_Years\"] = applicants_df[\"Experience_Years\"].fillna(0)\n",
        "\n",
        "# 3. Filter applicants with Python_Score > 80 and Experience_Years > 2\n",
        "qualified_applicants = applicants_df[\n",
        "    (applicants_df[\"Python_Score\"] > 80) & (applicants_df[\"Experience_Years\"] > 2)\n",
        "]\n",
        "\n",
        "print(\"✅ Qualified Applicants (Python_Score > 80 & Experience_Years > 2):\")\n",
        "print(qualified_applicants)\n",
        "\n",
        "# Optional: Save filtered applicants\n",
        "# qualified_applicants.to_csv(\"qualified_applicants.csv\", index=False)\n"
      ],
      "metadata": {
        "colab": {
          "base_uri": "https://localhost:8080/"
        },
        "id": "8QNKSwDPBV_o",
        "outputId": "feba2808-a1d2-4e17-e823-93b09da6f682"
      },
      "execution_count": 2,
      "outputs": [
        {
          "output_type": "stream",
          "name": "stdout",
          "text": [
            "✅ Qualified Applicants (Python_Score > 80 & Experience_Years > 2):\n",
            "  Applicant_ID          Name  Degree  Experience_Years  Python_Score    Status\n",
            "0         A001      John Doe  B.Tech               3.0          85.0   Pending\n",
            "1         A002    Jane Smith     MCA               5.0          90.0  Selected\n",
            "6         A007  David Wilson     MCA               4.0          82.0  Selected\n",
            "8         A009  James Miller  M.Tech               6.0          92.0  Selected\n"
          ]
        }
      ]
    },
    {
      "cell_type": "code",
      "source": [],
      "metadata": {
        "id": "FJjzF0xRBZyg"
      },
      "execution_count": null,
      "outputs": []
    }
  ]
}