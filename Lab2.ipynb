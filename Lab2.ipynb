{
  "nbformat": 4,
  "nbformat_minor": 0,
  "metadata": {
    "colab": {
      "provenance": [],
      "include_colab_link": true
    },
    "kernelspec": {
      "name": "python3",
      "display_name": "Python 3"
    },
    "language_info": {
      "name": "python"
    }
  },
  "cells": [
    {
      "cell_type": "markdown",
      "metadata": {
        "id": "view-in-github",
        "colab_type": "text"
      },
      "source": [
        "<a href=\"https://colab.research.google.com/github/2303a51732santhosh/2303A51732_Python_for_Datascience/blob/main/Lab2.ipynb\" target=\"_parent\"><img src=\"https://colab.research.google.com/assets/colab-badge.svg\" alt=\"Open In Colab\"/></a>"
      ]
    },
    {
      "cell_type": "code",
      "execution_count": 1,
      "metadata": {
        "colab": {
          "base_uri": "https://localhost:8080/"
        },
        "id": "634LylVgyESX",
        "outputId": "eaf5ea08-d6bb-447a-cc29-a4e8f847c2dd"
      },
      "outputs": [
        {
          "output_type": "stream",
          "name": "stdout",
          "text": [
            "Original Marks Array:\n",
            " [[78 85 90]\n",
            " [92 88 76]\n",
            " [67 73 70]\n",
            " [89 94 91]\n",
            " [56 60 65]]\n",
            "\n",
            "Average marks of each student: [84.33333333 85.33333333 70.         91.33333333 60.33333333]\n",
            "Minimum marks of each student: [78 76 67 89 56]\n",
            "Maximum marks of each student: [90 92 73 94 65]\n",
            "\n",
            "Marks of 3rd student (index 2): [67 73 70]\n",
            "\n",
            "Students with any subject > 80:\n",
            " [[78 85 90]\n",
            " [92 88 76]\n",
            " [89 94 91]]\n",
            "\n",
            "Subject-wise Marks (Transposed):\n",
            " [[78 92 67 89 56]\n",
            " [85 88 73 94 60]\n",
            " [90 76 70 91 65]]\n",
            "Average marks per subject: [76.4 80.  78.4]\n",
            "\n",
            "Original DataFrame:\n",
            "   Student  Math  Physics  Chemistry\n",
            "0      S1    78       85         90\n",
            "1      S2    92       88         76\n",
            "2      S3    67       73         70\n",
            "3      S4    89       94         91\n",
            "4      S5    56       60         65\n",
            "\n",
            "DataFrame with 'Average' and 'Passed' columns:\n",
            "   Student  Math  Physics  Chemistry    Average  Passed\n",
            "0      S1    78       85         90  84.333333    True\n",
            "1      S2    92       88         76  85.333333    True\n",
            "2      S3    67       73         70  70.000000   False\n",
            "3      S4    89       94         91  91.333333    True\n",
            "4      S5    56       60         65  60.333333   False\n",
            "\n",
            "Students with Average > 80:\n",
            "   Student  Math  Physics  Chemistry    Average  Passed\n",
            "0      S1    78       85         90  84.333333    True\n",
            "1      S2    92       88         76  85.333333    True\n",
            "3      S4    89       94         91  91.333333    True\n",
            "\n",
            "Subject-wise Overall Averages:\n",
            " Math         76.4\n",
            "Physics      80.0\n",
            "Chemistry    78.4\n",
            "dtype: float64\n"
          ]
        }
      ],
      "source": [
        "import numpy as np\n",
        "import pandas as pd\n",
        "\n",
        "marks = np.array([\n",
        "    [78, 85, 90],\n",
        "    [92, 88, 76],\n",
        "    [67, 73, 70],\n",
        "    [89, 94, 91],\n",
        "    [56, 60, 65]\n",
        "])\n",
        "\n",
        "print(\"Original Marks Array:\\n\", marks)\n",
        "\n",
        "print(\"\\nAverage marks of each student:\", np.mean(marks, axis=1))\n",
        "print(\"Minimum marks of each student:\", np.min(marks, axis=1))\n",
        "print(\"Maximum marks of each student:\", np.max(marks, axis=1))\n",
        "\n",
        "print(\"\\nMarks of 3rd student (index 2):\", marks[2])\n",
        "print(\"\\nStudents with any subject > 80:\\n\", marks[np.any(marks > 80, axis=1)])\n",
        "\n",
        "subject_wise = marks.T\n",
        "print(\"\\nSubject-wise Marks (Transposed):\\n\", subject_wise)\n",
        "\n",
        "print(\"Average marks per subject:\", np.mean(subject_wise, axis=1))\n",
        "\n",
        "data = {\n",
        "    'Student': ['S1', 'S2', 'S3', 'S4', 'S5'],\n",
        "    'Math': marks[:, 0],\n",
        "    'Physics': marks[:, 1],\n",
        "    'Chemistry': marks[:, 2]\n",
        "}\n",
        "\n",
        "df = pd.DataFrame(data)\n",
        "print(\"\\nOriginal DataFrame:\\n\", df)\n",
        "\n",
        "df['Average'] = df[['Math', 'Physics', 'Chemistry']].mean(axis=1)\n",
        "df['Passed'] = df['Average'] >= 80\n",
        "\n",
        "print(\"\\nDataFrame with 'Average' and 'Passed' columns:\\n\", df)\n",
        "\n",
        "high_scorers = df[df['Average'] > 80]\n",
        "print(\"\\nStudents with Average > 80:\\n\", high_scorers)\n",
        "\n",
        "overall_avg = df[['Math', 'Physics', 'Chemistry']].mean()\n",
        "print(\"\\nSubject-wise Overall Averages:\\n\", overall_avg)\n"
      ]
    },
    {
      "cell_type": "code",
      "source": [
        "import pandas as pd\n",
        "\n",
        "data = {\n",
        "    'Name': ['Alice', 'Bob', 'Charlie', 'David', 'Eve'],\n",
        "    'ID': [101, 102, 103, 104, 105],\n",
        "    'Department': ['HR', 'IT', 'Finance', 'Marketing', 'IT'],\n",
        "    'Salary': [55000, 48000, 72000, 60000, 51000]\n",
        "}\n",
        "\n",
        "df = pd.DataFrame(data)\n",
        "print(\"Original DataFrame:\\n\", df)\n",
        "\n",
        "filtered_df = df[df['Salary'] > 50000]\n",
        "print(\"\\nEmployees with Salary > 50,000:\\n\", filtered_df)\n",
        "\n",
        "sorted_df = df.sort_values(by='Salary', ascending=False)\n",
        "print(\"\\nDataFrame Sorted by Salary (Descending):\\n\", sorted_df)\n",
        "\n",
        "df['Bonus'] = df['Salary'] * 0.10\n",
        "print(\"\\nDataFrame with Bonus Column:\\n\", df)\n",
        "\n",
        "df['Total_Compensation'] = df['Salary'] + df['Bonus']\n",
        "print(\"\\nDataFrame with Total Compensation:\\n\", df)\n",
        "\n",
        "total_expense = df['Total_Compensation'].sum()\n",
        "print(\"\\nTotal Salary Expense including Bonuses:\", total_expense)\n",
        "\n",
        "df.to_csv('employee_salary_analysis.csv', index=False)\n"
      ],
      "metadata": {
        "id": "Xd9vH3T8xlDF",
        "outputId": "5f420018-8fdd-4403-c2b3-3176d506b442",
        "colab": {
          "base_uri": "https://localhost:8080/"
        }
      },
      "execution_count": 2,
      "outputs": [
        {
          "output_type": "stream",
          "name": "stdout",
          "text": [
            "Original DataFrame:\n",
            "       Name   ID Department  Salary\n",
            "0    Alice  101         HR   55000\n",
            "1      Bob  102         IT   48000\n",
            "2  Charlie  103    Finance   72000\n",
            "3    David  104  Marketing   60000\n",
            "4      Eve  105         IT   51000\n",
            "\n",
            "Employees with Salary > 50,000:\n",
            "       Name   ID Department  Salary\n",
            "0    Alice  101         HR   55000\n",
            "2  Charlie  103    Finance   72000\n",
            "3    David  104  Marketing   60000\n",
            "4      Eve  105         IT   51000\n",
            "\n",
            "DataFrame Sorted by Salary (Descending):\n",
            "       Name   ID Department  Salary\n",
            "2  Charlie  103    Finance   72000\n",
            "3    David  104  Marketing   60000\n",
            "0    Alice  101         HR   55000\n",
            "4      Eve  105         IT   51000\n",
            "1      Bob  102         IT   48000\n",
            "\n",
            "DataFrame with Bonus Column:\n",
            "       Name   ID Department  Salary   Bonus\n",
            "0    Alice  101         HR   55000  5500.0\n",
            "1      Bob  102         IT   48000  4800.0\n",
            "2  Charlie  103    Finance   72000  7200.0\n",
            "3    David  104  Marketing   60000  6000.0\n",
            "4      Eve  105         IT   51000  5100.0\n",
            "\n",
            "DataFrame with Total Compensation:\n",
            "       Name   ID Department  Salary   Bonus  Total_Compensation\n",
            "0    Alice  101         HR   55000  5500.0             60500.0\n",
            "1      Bob  102         IT   48000  4800.0             52800.0\n",
            "2  Charlie  103    Finance   72000  7200.0             79200.0\n",
            "3    David  104  Marketing   60000  6000.0             66000.0\n",
            "4      Eve  105         IT   51000  5100.0             56100.0\n",
            "\n",
            "Total Salary Expense including Bonuses: 314600.0\n"
          ]
        }
      ]
    },
    {
      "cell_type": "code",
      "source": [],
      "metadata": {
        "id": "wGxVxs-A8lzd"
      },
      "execution_count": 2,
      "outputs": []
    }
  ]
}