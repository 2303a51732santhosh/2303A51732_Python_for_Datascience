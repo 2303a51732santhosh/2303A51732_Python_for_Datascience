{
  "nbformat": 4,
  "nbformat_minor": 0,
  "metadata": {
    "colab": {
      "provenance": [],
      "authorship_tag": "ABX9TyORqNje4X7meOVsc7jgCVnl",
      "include_colab_link": true
    },
    "kernelspec": {
      "name": "python3",
      "display_name": "Python 3"
    },
    "language_info": {
      "name": "python"
    }
  },
  "cells": [
    {
      "cell_type": "markdown",
      "metadata": {
        "id": "view-in-github",
        "colab_type": "text"
      },
      "source": [
        "<a href=\"https://colab.research.google.com/github/2303a51732santhosh/2303A51732_Python_for_Datascience/blob/main/Lab_3.ipynb\" target=\"_parent\"><img src=\"https://colab.research.google.com/assets/colab-badge.svg\" alt=\"Open In Colab\"/></a>"
      ]
    },
    {
      "cell_type": "code",
      "execution_count": null,
      "metadata": {
        "id": "m-JVCANVrzqh"
      },
      "outputs": [],
      "source": [
        "import numpy as np"
      ]
    },
    {
      "cell_type": "code",
      "source": [
        "arr_1 = np.array([[1,2,3],[4,5,6],[7,8,9]])\n",
        "arr_2 = np.array([[10,1,2],[11,15,13],[22,23,24]])\n",
        "print(\"Sum\",np.add(arr_1,arr_2))\n",
        "print(\"Subtract\",np.subtract(arr_1,arr_2))"
      ],
      "metadata": {
        "colab": {
          "base_uri": "https://localhost:8080/"
        },
        "id": "djV4flU4vpS9",
        "outputId": "644802e8-ce03-4630-b3dc-3b3f89aabaf5"
      },
      "execution_count": null,
      "outputs": [
        {
          "output_type": "stream",
          "name": "stdout",
          "text": [
            "Sum [[11  3  5]\n",
            " [15 20 19]\n",
            " [29 31 33]]\n",
            "Subtract [[ -9   1   1]\n",
            " [ -7 -10  -7]\n",
            " [-15 -15 -15]]\n"
          ]
        }
      ]
    },
    {
      "cell_type": "code",
      "source": [
        "\n",
        "\n",
        "import numpy as np\n",
        "import matplotlib.pyplot as plt\n",
        "\n",
        "\n",
        "A = np.array([[1, 2],\n",
        "              [3, 4],\n",
        "              [5, 6]])\n",
        "\n",
        "B = np.array([[7, 8, 9],\n",
        "              [10, 11, 12]])\n",
        "\n",
        "print(\"Matrix A (3x2):\\n\", A)\n",
        "print(\"\\nMatrix B (2x3):\\n\", B)\n",
        "\n",
        "if A.shape[1] == B.shape[0]:\n",
        "    print(\"\\n✅ Dimensions match for multiplication.\")\n",
        "else:\n",
        "    raise ValueError(\"❌ Dimensions do not match!\")\n",
        "\n",
        "\n",
        "C = np.dot(A, B)  # or A @ B\n",
        "print(\"\\nResult of A dot B (3x3):\\n\", C)\n",
        "\n",
        "\n",
        "image = np.array([[100, 150, 200],\n",
        "                  [50,  75,  125],\n",
        "                  [25,  50,  75]])\n",
        "\n",
        "\n",
        "filter_matrix = np.array([[1, 0, -1],\n",
        "                          [1, 0, -1],\n",
        "                          [1, 0, -1]])\n",
        "\n",
        "transformed_image = np.dot(image, filter_matrix)\n",
        "\n",
        "print(\"\\nOriginal Image Matrix:\\n\", image)\n",
        "print(\"\\nFilter Matrix:\\n\", filter_matrix)\n",
        "print(\"\\nTransformed Image Matrix:\\n\", transformed_image)\n",
        "\n",
        "\n",
        "fig, axs = plt.subplots(1, 2, figsize=(8, 4))\n",
        "axs[0].imshow(image, cmap='gray')\n",
        "axs[0].set_title('Original Image')\n",
        "axs[0].axis('off')\n",
        "\n",
        "axs[1].imshow(transformed_image, cmap='gray')\n",
        "axs[1].set_title('Transformed Image')\n",
        "axs[1].axis('off')\n",
        "\n",
        "plt.show()\n"
      ],
      "metadata": {
        "colab": {
          "base_uri": "https://localhost:8080/",
          "height": 862
        },
        "id": "N7lq536Ax0Nn",
        "outputId": "90191d8a-afb7-41c1-f8f1-5d907d64ca55"
      },
      "execution_count": null,
      "outputs": [
        {
          "output_type": "stream",
          "name": "stdout",
          "text": [
            "Matrix A (3x2):\n",
            " [[1 2]\n",
            " [3 4]\n",
            " [5 6]]\n",
            "\n",
            "Matrix B (2x3):\n",
            " [[ 7  8  9]\n",
            " [10 11 12]]\n",
            "\n",
            "✅ Dimensions match for multiplication.\n",
            "\n",
            "Result of A dot B (3x3):\n",
            " [[ 27  30  33]\n",
            " [ 61  68  75]\n",
            " [ 95 106 117]]\n",
            "\n",
            "Original Image Matrix:\n",
            " [[100 150 200]\n",
            " [ 50  75 125]\n",
            " [ 25  50  75]]\n",
            "\n",
            "Filter Matrix:\n",
            " [[ 1  0 -1]\n",
            " [ 1  0 -1]\n",
            " [ 1  0 -1]]\n",
            "\n",
            "Transformed Image Matrix:\n",
            " [[ 450    0 -450]\n",
            " [ 250    0 -250]\n",
            " [ 150    0 -150]]\n"
          ]
        },
        {
          "output_type": "display_data",
          "data": {
            "text/plain": [
              "<Figure size 800x400 with 2 Axes>"
            ],
            "image/png": "[encoded data removed]"
          },
          "metadata": {}
        }
      ]
    },
    {
      "cell_type": "code",
      "source": [],
      "metadata": {
        "id": "yCNFQnEBzNN3"
      },
      "execution_count": null,
      "outputs": []
    }
  ]
}